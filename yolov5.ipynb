{
  "nbformat": 4,
  "nbformat_minor": 0,
  "metadata": {
    "colab": {
      "name": "yolov5.ipynb",
      "provenance": [],
      "toc_visible": true,
      "authorship_tag": "ABX9TyPq3lAMkVOIMqZRomuvTN9r",
      "include_colab_link": true
    },
    "kernelspec": {
      "name": "python3",
      "display_name": "Python 3"
    },
    "language_info": {
      "name": "python"
    }
  },
  "cells": [
    {
      "cell_type": "markdown",
      "metadata": {
        "id": "view-in-github",
        "colab_type": "text"
      },
      "source": [
        "<a href=\"https://colab.research.google.com/github/FREDERICO23/object-detection/blob/main/yolov5.ipynb\" target=\"_parent\"><img src=\"https://colab.research.google.com/assets/colab-badge.svg\" alt=\"Open In Colab\"/></a>"
      ]
    },
    {
      "cell_type": "markdown",
      "metadata": {
        "id": "YhPiu0m-ttGg"
      },
      "source": [
        "## Set Up"
      ]
    },
    {
      "cell_type": "code",
      "metadata": {
        "id": "SxhM_vfatlSG"
      },
      "source": [
        "!git clone https://github.com/ultralytics/yolov5  # clone repo\n",
        "%cd yolov5 # change directory to yolov5\n"
      ],
      "execution_count": null,
      "outputs": []
    },
    {
      "cell_type": "code",
      "metadata": {
        "id": "DZthyORKt15c"
      },
      "source": [
        "!pip install -r requirements.txt  # install dependencies"
      ],
      "execution_count": null,
      "outputs": []
    },
    {
      "cell_type": "markdown",
      "metadata": {
        "id": "aw7_6l6Ct_lZ"
      },
      "source": [
        "## Inference with `detect.py`"
      ]
    },
    {
      "cell_type": "code",
      "metadata": {
        "id": "OxuPlPs0t9jL"
      },
      "source": [
        "!python detect.py --source vid.mp4  # for a specific video\n",
        "!python detect.py --source path/  # for a specific directory\n",
        "!python detect.py --source path/*.jpg  # for a specific glob\n",
        "!python detect.py --source 'https://youtu.be/Zgi9g1ksQHc'  # for a specific YouTube video\n",
        "!python detect.py --source 'rtsp://example.com/media.mp4'  # for a specific RTSP, RTMP, or HTTP stream"
      ],
      "execution_count": null,
      "outputs": []
    },
    {
      "cell_type": "markdown",
      "metadata": {
        "id": "GsOKkwHDuRvA"
      },
      "source": [
        "## Model Training"
      ]
    },
    {
      "cell_type": "code",
      "metadata": {
        "id": "_5W6R-cxuQef"
      },
      "source": [
        "!python train.py --img 640 --batch 16 --epochs 3 --data coco128.yaml --weights yolov5s.pt --cache"
      ],
      "execution_count": null,
      "outputs": []
    },
    {
      "cell_type": "markdown",
      "metadata": {
        "id": "QrQ0vVouvCdf"
      },
      "source": [
        "## Model Validation"
      ]
    },
    {
      "cell_type": "code",
      "metadata": {
        "id": "5NsnRlxQvDpx"
      },
      "source": [
        "!torch.hub.download_url_to_file('https://ultralytics.com/assets/coco2017val.zip', 'tmp.zip')\n",
        "# then unzip the file using:\n",
        "!unzip -q tmp.zip -d ../datasets && rm tmp.zip"
      ],
      "execution_count": null,
      "outputs": []
    },
    {
      "cell_type": "code",
      "metadata": {
        "id": "u8mY_lfKvfBI"
      },
      "source": [
        "!python val.py --weights yolov5x.pt --data coco.yaml --img 640 --iou 0.65 --half"
      ],
      "execution_count": null,
      "outputs": []
    }
  ]
}